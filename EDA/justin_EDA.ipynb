{
 "cells": [
  {
   "cell_type": "code",
   "execution_count": null,
   "metadata": {},
   "outputs": [],
   "source": [
    "# EDA"
   ]
  }
 ],
 "metadata": {
  "kernelspec": {
   "display_name": "capstone",
   "language": "python",
   "name": "python3"
  },
  "language_info": {
   "name": "python",
   "version": "3.10.9"
  },
  "orig_nbformat": 4,
  "vscode": {
   "interpreter": {
    "hash": "759d615a6011cf57c2c57e6064acf95c690d40fe9cf44cbfbd093cd6be7bb9a8"
   }
  }
 },
 "nbformat": 4,
 "nbformat_minor": 2
}
