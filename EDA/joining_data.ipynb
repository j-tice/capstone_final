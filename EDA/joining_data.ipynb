{
 "cells": [
  {
   "cell_type": "code",
   "execution_count": 19,
   "id": "062a55bf",
   "metadata": {},
   "outputs": [],
   "source": [
    "import numpy as np\n",
    "import pandas as pd\n",
    "import matplotlib.pyplot as plt\n",
    "%matplotlib inline\n",
    "import seaborn as sns"
   ]
  },
  {
   "cell_type": "code",
   "execution_count": 6,
   "id": "50adb052",
   "metadata": {},
   "outputs": [],
   "source": [
    "weather = pd.read_csv('https://raw.githubusercontent.com/j-tice/capstone_final/master/data/prepared_data/clean_data/clean_meteorological_data.csv?token=GHSAT0AAAAAAB6VFL52NL5XJTY4WZTPSDU4Y7WWVUQ')\n",
    "sensor = pd.read_csv('https://raw.githubusercontent.com/j-tice/capstone_final/master/data/prepared_data/clean_data/clean_sensor_data.csv?token=GHSAT0AAAAAAB6VFL52OQSYO6THXDIICLSEY7WWVJA')"
   ]
  },
  {
   "cell_type": "code",
   "execution_count": 7,
   "id": "cffe5b38",
   "metadata": {},
   "outputs": [
    {
     "data": {
      "text/html": [
       "<div>\n",
       "<style scoped>\n",
       "    .dataframe tbody tr th:only-of-type {\n",
       "        vertical-align: middle;\n",
       "    }\n",
       "\n",
       "    .dataframe tbody tr th {\n",
       "        vertical-align: top;\n",
       "    }\n",
       "\n",
       "    .dataframe thead th {\n",
       "        text-align: right;\n",
       "    }\n",
       "</style>\n",
       "<table border=\"1\" class=\"dataframe\">\n",
       "  <thead>\n",
       "    <tr style=\"text-align: right;\">\n",
       "      <th></th>\n",
       "      <th>date</th>\n",
       "      <th>wind_direction</th>\n",
       "      <th>wind_speed</th>\n",
       "    </tr>\n",
       "  </thead>\n",
       "  <tbody>\n",
       "    <tr>\n",
       "      <th>0</th>\n",
       "      <td>2016-04-01 00:00:00</td>\n",
       "      <td>10.5</td>\n",
       "      <td>4.0</td>\n",
       "    </tr>\n",
       "    <tr>\n",
       "      <th>1</th>\n",
       "      <td>2016-04-01 03:00:00</td>\n",
       "      <td>23.3</td>\n",
       "      <td>5.0</td>\n",
       "    </tr>\n",
       "    <tr>\n",
       "      <th>2</th>\n",
       "      <td>2016-04-01 06:00:00</td>\n",
       "      <td>21.1</td>\n",
       "      <td>5.2</td>\n",
       "    </tr>\n",
       "    <tr>\n",
       "      <th>3</th>\n",
       "      <td>2016-04-01 09:00:00</td>\n",
       "      <td>24.9</td>\n",
       "      <td>4.1</td>\n",
       "    </tr>\n",
       "    <tr>\n",
       "      <th>4</th>\n",
       "      <td>2016-04-01 12:00:00</td>\n",
       "      <td>27.0</td>\n",
       "      <td>3.6</td>\n",
       "    </tr>\n",
       "  </tbody>\n",
       "</table>\n",
       "</div>"
      ],
      "text/plain": [
       "                  date  wind_direction  wind_speed\n",
       "0  2016-04-01 00:00:00            10.5         4.0\n",
       "1  2016-04-01 03:00:00            23.3         5.0\n",
       "2  2016-04-01 06:00:00            21.1         5.2\n",
       "3  2016-04-01 09:00:00            24.9         4.1\n",
       "4  2016-04-01 12:00:00            27.0         3.6"
      ]
     },
     "execution_count": 7,
     "metadata": {},
     "output_type": "execute_result"
    }
   ],
   "source": [
    "weather.head()"
   ]
  },
  {
   "cell_type": "code",
   "execution_count": 8,
   "id": "f4401250",
   "metadata": {},
   "outputs": [],
   "source": [
    "sensor.columns = [elem.lower() for elem in sensor.columns]\n",
    "new_cols = list(sensor.columns)\n",
    "new_cols[2] = 'date'\n",
    "sensor.columns = new_cols"
   ]
  },
  {
   "cell_type": "code",
   "execution_count": 9,
   "id": "67a61044",
   "metadata": {},
   "outputs": [
    {
     "data": {
      "text/html": [
       "<div>\n",
       "<style scoped>\n",
       "    .dataframe tbody tr th:only-of-type {\n",
       "        vertical-align: middle;\n",
       "    }\n",
       "\n",
       "    .dataframe tbody tr th {\n",
       "        vertical-align: top;\n",
       "    }\n",
       "\n",
       "    .dataframe thead th {\n",
       "        text-align: right;\n",
       "    }\n",
       "</style>\n",
       "<table border=\"1\" class=\"dataframe\">\n",
       "  <thead>\n",
       "    <tr style=\"text-align: right;\">\n",
       "      <th></th>\n",
       "      <th>chemical</th>\n",
       "      <th>monitor</th>\n",
       "      <th>date</th>\n",
       "      <th>reading</th>\n",
       "    </tr>\n",
       "  </thead>\n",
       "  <tbody>\n",
       "    <tr>\n",
       "      <th>0</th>\n",
       "      <td>Methylosmolene</td>\n",
       "      <td>3</td>\n",
       "      <td>2016-04-01 00:00:00</td>\n",
       "      <td>2.683820</td>\n",
       "    </tr>\n",
       "    <tr>\n",
       "      <th>1</th>\n",
       "      <td>Methylosmolene</td>\n",
       "      <td>7</td>\n",
       "      <td>2016-04-01 00:00:00</td>\n",
       "      <td>2.630640</td>\n",
       "    </tr>\n",
       "    <tr>\n",
       "      <th>2</th>\n",
       "      <td>Chlorodinine</td>\n",
       "      <td>3</td>\n",
       "      <td>2016-04-01 00:00:00</td>\n",
       "      <td>1.259170</td>\n",
       "    </tr>\n",
       "    <tr>\n",
       "      <th>3</th>\n",
       "      <td>Chlorodinine</td>\n",
       "      <td>7</td>\n",
       "      <td>2016-04-01 00:00:00</td>\n",
       "      <td>0.943983</td>\n",
       "    </tr>\n",
       "    <tr>\n",
       "      <th>4</th>\n",
       "      <td>AGOC-3A</td>\n",
       "      <td>3</td>\n",
       "      <td>2016-04-01 00:00:00</td>\n",
       "      <td>0.722303</td>\n",
       "    </tr>\n",
       "  </tbody>\n",
       "</table>\n",
       "</div>"
      ],
      "text/plain": [
       "         chemical  monitor                 date   reading\n",
       "0  Methylosmolene        3  2016-04-01 00:00:00  2.683820\n",
       "1  Methylosmolene        7  2016-04-01 00:00:00  2.630640\n",
       "2    Chlorodinine        3  2016-04-01 00:00:00  1.259170\n",
       "3    Chlorodinine        7  2016-04-01 00:00:00  0.943983\n",
       "4         AGOC-3A        3  2016-04-01 00:00:00  0.722303"
      ]
     },
     "execution_count": 9,
     "metadata": {},
     "output_type": "execute_result"
    }
   ],
   "source": [
    "sensor.head()"
   ]
  },
  {
   "cell_type": "code",
   "execution_count": 10,
   "id": "248ddb03",
   "metadata": {},
   "outputs": [
    {
     "data": {
      "text/plain": [
       "date               object\n",
       "wind_direction    float64\n",
       "wind_speed        float64\n",
       "dtype: object"
      ]
     },
     "execution_count": 10,
     "metadata": {},
     "output_type": "execute_result"
    }
   ],
   "source": [
    "weather.dtypes"
   ]
  },
  {
   "cell_type": "code",
   "execution_count": 11,
   "id": "10a48932",
   "metadata": {
    "scrolled": true
   },
   "outputs": [
    {
     "data": {
      "text/plain": [
       "chemical     object\n",
       "monitor       int64\n",
       "date         object\n",
       "reading     float64\n",
       "dtype: object"
      ]
     },
     "execution_count": 11,
     "metadata": {},
     "output_type": "execute_result"
    }
   ],
   "source": [
    "sensor.dtypes"
   ]
  },
  {
   "cell_type": "code",
   "execution_count": 12,
   "id": "9b0a72a2",
   "metadata": {},
   "outputs": [],
   "source": [
    "sensor1 = sensor.loc[sensor.monitor == 1]\n",
    "sensor2 = sensor.loc[sensor.monitor == 2]\n",
    "sensor3 = sensor.loc[sensor.monitor == 3]\n",
    "sensor4 = sensor.loc[sensor.monitor == 4]\n",
    "sensor5 = sensor.loc[sensor.monitor == 5]\n",
    "sensor6 = sensor.loc[sensor.monitor == 6]\n",
    "sensor7 = sensor.loc[sensor.monitor == 7]\n",
    "sensor8 = sensor.loc[sensor.monitor == 8]\n",
    "sensor9 = sensor.loc[sensor.monitor == 9]"
   ]
  },
  {
   "cell_type": "code",
   "execution_count": 13,
   "id": "4290802d",
   "metadata": {},
   "outputs": [
    {
     "data": {
      "text/plain": [
       "['Methylosmolene', 'Chlorodinine', 'AGOC-3A', 'Appluimonia']"
      ]
     },
     "execution_count": 13,
     "metadata": {},
     "output_type": "execute_result"
    }
   ],
   "source": [
    "chems = list(sensor1.chemical.unique())\n",
    "chems"
   ]
  },
  {
   "cell_type": "code",
   "execution_count": 14,
   "id": "ef5ce0b1",
   "metadata": {},
   "outputs": [],
   "source": [
    "s1_methyl = sensor1.loc[sensor1.chemical == 'Methylosmolene']"
   ]
  },
  {
   "cell_type": "code",
   "execution_count": 15,
   "id": "65147ffd",
   "metadata": {},
   "outputs": [],
   "source": [
    "locations = pd.read_csv('https://raw.githubusercontent.com/j-tice/capstone_final/master/data/prepared_data/clean_data/locations.csv?token=GHSAT0AAAAAAB6VFL53MVJQP3DLF6KAHIDGY7WWTRQ')\n",
    "chem_counts = pd.read_csv('https://raw.githubusercontent.com/j-tice/capstone_final/master/data/prepared_data/clean_data/chem_counts.csv?token=GHSAT0AAAAAAB6VFL53IBE6RMIO5A7UVZ2IY7WWTYQ')"
   ]
  },
  {
   "cell_type": "code",
   "execution_count": 16,
   "id": "c787736c",
   "metadata": {},
   "outputs": [
    {
     "data": {
      "text/html": [
       "<div>\n",
       "<style scoped>\n",
       "    .dataframe tbody tr th:only-of-type {\n",
       "        vertical-align: middle;\n",
       "    }\n",
       "\n",
       "    .dataframe tbody tr th {\n",
       "        vertical-align: top;\n",
       "    }\n",
       "\n",
       "    .dataframe thead th {\n",
       "        text-align: right;\n",
       "    }\n",
       "</style>\n",
       "<table border=\"1\" class=\"dataframe\">\n",
       "  <thead>\n",
       "    <tr style=\"text-align: right;\">\n",
       "      <th></th>\n",
       "      <th>Name</th>\n",
       "      <th>x</th>\n",
       "      <th>y</th>\n",
       "    </tr>\n",
       "  </thead>\n",
       "  <tbody>\n",
       "    <tr>\n",
       "      <th>0</th>\n",
       "      <td>Kasios Office Furniture</td>\n",
       "      <td>90</td>\n",
       "      <td>21</td>\n",
       "    </tr>\n",
       "    <tr>\n",
       "      <th>1</th>\n",
       "      <td>Radiance ColourTek</td>\n",
       "      <td>109</td>\n",
       "      <td>26</td>\n",
       "    </tr>\n",
       "    <tr>\n",
       "      <th>2</th>\n",
       "      <td>Indigo Sol Boards</td>\n",
       "      <td>120</td>\n",
       "      <td>22</td>\n",
       "    </tr>\n",
       "    <tr>\n",
       "      <th>3</th>\n",
       "      <td>Roadrunner Fitness Electronics</td>\n",
       "      <td>89</td>\n",
       "      <td>27</td>\n",
       "    </tr>\n",
       "    <tr>\n",
       "      <th>4</th>\n",
       "      <td>Sensor 1</td>\n",
       "      <td>62</td>\n",
       "      <td>21</td>\n",
       "    </tr>\n",
       "  </tbody>\n",
       "</table>\n",
       "</div>"
      ],
      "text/plain": [
       "                             Name    x   y\n",
       "0         Kasios Office Furniture   90  21\n",
       "1              Radiance ColourTek  109  26\n",
       "2               Indigo Sol Boards  120  22\n",
       "3  Roadrunner Fitness Electronics   89  27\n",
       "4                        Sensor 1   62  21"
      ]
     },
     "execution_count": 16,
     "metadata": {},
     "output_type": "execute_result"
    }
   ],
   "source": [
    "locations.head()"
   ]
  },
  {
   "cell_type": "code",
   "execution_count": 17,
   "id": "96268a5c",
   "metadata": {},
   "outputs": [
    {
     "data": {
      "text/html": [
       "<div>\n",
       "<style scoped>\n",
       "    .dataframe tbody tr th:only-of-type {\n",
       "        vertical-align: middle;\n",
       "    }\n",
       "\n",
       "    .dataframe tbody tr th {\n",
       "        vertical-align: top;\n",
       "    }\n",
       "\n",
       "    .dataframe thead th {\n",
       "        text-align: right;\n",
       "    }\n",
       "</style>\n",
       "<table border=\"1\" class=\"dataframe\">\n",
       "  <thead>\n",
       "    <tr style=\"text-align: right;\">\n",
       "      <th></th>\n",
       "      <th>sensor</th>\n",
       "      <th>chemical</th>\n",
       "      <th>sig_count</th>\n",
       "    </tr>\n",
       "  </thead>\n",
       "  <tbody>\n",
       "    <tr>\n",
       "      <th>0</th>\n",
       "      <td>1</td>\n",
       "      <td>Chlorodinine</td>\n",
       "      <td>5</td>\n",
       "    </tr>\n",
       "    <tr>\n",
       "      <th>1</th>\n",
       "      <td>1</td>\n",
       "      <td>AGOC-3A</td>\n",
       "      <td>4</td>\n",
       "    </tr>\n",
       "    <tr>\n",
       "      <th>2</th>\n",
       "      <td>1</td>\n",
       "      <td>Appluimonia</td>\n",
       "      <td>3</td>\n",
       "    </tr>\n",
       "    <tr>\n",
       "      <th>3</th>\n",
       "      <td>1</td>\n",
       "      <td>Methylosmolene</td>\n",
       "      <td>1</td>\n",
       "    </tr>\n",
       "    <tr>\n",
       "      <th>4</th>\n",
       "      <td>2</td>\n",
       "      <td>AGOC-3A</td>\n",
       "      <td>7</td>\n",
       "    </tr>\n",
       "  </tbody>\n",
       "</table>\n",
       "</div>"
      ],
      "text/plain": [
       "   sensor        chemical  sig_count\n",
       "0       1    Chlorodinine          5\n",
       "1       1         AGOC-3A          4\n",
       "2       1     Appluimonia          3\n",
       "3       1  Methylosmolene          1\n",
       "4       2         AGOC-3A          7"
      ]
     },
     "execution_count": 17,
     "metadata": {},
     "output_type": "execute_result"
    }
   ],
   "source": [
    "chem_counts.head()"
   ]
  },
  {
   "cell_type": "code",
   "execution_count": null,
   "id": "2e4262cd",
   "metadata": {},
   "outputs": [],
   "source": [
    "# https://seaborn.pydata.org/examples/scatter_bubbles.html"
   ]
  }
 ],
 "metadata": {
  "kernelspec": {
   "display_name": "capstone",
   "language": "python",
   "name": "python3"
  },
  "language_info": {
   "codemirror_mode": {
    "name": "ipython",
    "version": 3
   },
   "file_extension": ".py",
   "mimetype": "text/x-python",
   "name": "python",
   "nbconvert_exporter": "python",
   "pygments_lexer": "ipython3",
   "version": "3.10.9"
  },
  "vscode": {
   "interpreter": {
    "hash": "759d615a6011cf57c2c57e6064acf95c690d40fe9cf44cbfbd093cd6be7bb9a8"
   }
  }
 },
 "nbformat": 4,
 "nbformat_minor": 5
}
