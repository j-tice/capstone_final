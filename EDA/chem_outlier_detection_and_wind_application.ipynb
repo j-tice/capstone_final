{
 "cells": [
  {
   "cell_type": "markdown",
   "id": "79679f53",
   "metadata": {},
   "source": [
    "# Which factories are responsible for which chemical releases? Carefully describe how you determined this using all the data you have available. For the factories you identified, describe any observed patterns of operation revealed in the data."
   ]
  },
  {
   "cell_type": "code",
   "execution_count": 25,
   "id": "cfd125c5",
   "metadata": {},
   "outputs": [],
   "source": [
    "# import libraries\n",
    "import numpy as np\n",
    "import pandas as pd\n",
    "from pandasql import sqldf\n",
    "import seaborn as sns\n",
    "import matplotlib.pyplot as plt\n",
    "%matplotlib inline\n",
    "import pprint\n",
    "sns.set_style(\"darkgrid\")"
   ]
  },
  {
   "cell_type": "code",
   "execution_count": 5,
   "id": "fad4d660",
   "metadata": {},
   "outputs": [],
   "source": [
    "# import data\n",
    "sensor = pd.read_csv('https://raw.githubusercontent.com/j-tice/capstone_final/master/data/prepared_data/clean_data/clean_sensor_data.csv')\n",
    "weather = pd.read_csv('https://raw.githubusercontent.com/j-tice/capstone_final/ef9ac7bceb5cde6fd932cb5c0018ca90329a9d3c/data/prepared_data/clean_data/clean_meteorological_data.csv')\n",
    "locations = pd.read_csv('https://raw.githubusercontent.com/j-tice/capstone_final/ef9ac7bceb5cde6fd932cb5c0018ca90329a9d3c/data/prepared_data/clean_data/locations.csv')\n",
    "chem_counts = pd.read_csv('https://raw.githubusercontent.com/j-tice/capstone_final/a9b08f3c0f6fdd6e72bdd1465f3c6177b687d332/data/prepared_data/clean_data/chem_counts.csv')\n",
    "\n",
    "psql = lambda q: sqldf(q, globals())"
   ]
  },
  {
   "cell_type": "code",
   "execution_count": 15,
   "id": "7246d84e",
   "metadata": {},
   "outputs": [],
   "source": [
    "# eliminate the potentially faulty sensor 8\n",
    "sensor = sensor.loc[sensor.Monitor != 8]"
   ]
  },
  {
   "cell_type": "code",
   "execution_count": 30,
   "id": "da670993",
   "metadata": {},
   "outputs": [
    {
     "name": "stdout",
     "output_type": "stream",
     "text": [
      "{'AGOC-3A': 10.6913,\n",
      " 'Appluimonia': 2.699,\n",
      " 'Chlorodinine': 3.3325,\n",
      " 'Methylosmolene': 8.7986}\n"
     ]
    }
   ],
   "source": [
    "# determine cutoffs for each chemical type\n",
    "chems = list(sensor.Chemical.unique())\n",
    "chem_dfs = dict()\n",
    "cutoff_values = dict()\n",
    "\n",
    "for chemical in chems:\n",
    "    chem_dfs['{name}'.format(name=chemical)] = sensor.loc[sensor.Chemical == chemical]\n",
    "    \n",
    "for chemical in chems:\n",
    "    reference = chem_dfs[chemical]\n",
    "    tmp_cutoff = np.mean(reference.Reading) + (3 * np.std(reference.Reading))\n",
    "    cutoff_values['{name}'.format(name=chemical)] = round(tmp_cutoff, 4)\n",
    "\n",
    "pprint.pprint(cutoff_values)"
   ]
  },
  {
   "cell_type": "code",
   "execution_count": 31,
   "id": "7f48ba97",
   "metadata": {},
   "outputs": [],
   "source": [
    "# isolate observations where the chemical reading is above the cutoff\n",
    "\n",
    "spikes = dict()\n",
    "for chemical in chems:\n",
    "    tmp_df = chem_dfs[chemical]\n",
    "    tmp_cutoff = cutoff_values[chemical]\n",
    "    tmp_outliers = tmp_df.loc[tmp_df.Reading > tmp_cutoff]\n",
    "    spikes['{name}_outliers'.format(name=chemical)] = tmp_outliers"
   ]
  },
  {
   "cell_type": "code",
   "execution_count": 43,
   "id": "77977b2f",
   "metadata": {},
   "outputs": [],
   "source": [
    "# let's take the top 10 by reading per chemical\n",
    "for key in spikes.keys():\n",
    "    spikes[key] = spikes[key].sort_values(by='Reading', ascending=False, axis=0).head(10)\n",
    "#     df = df.sort_values(by='Reading', ascending=False, axis=0).head(10)"
   ]
  },
  {
   "cell_type": "code",
   "execution_count": 45,
   "id": "a75a54d2",
   "metadata": {},
   "outputs": [
    {
     "name": "stdout",
     "output_type": "stream",
     "text": [
      "             Chemical  Monitor            Date_Time    Reading\n",
      "59299  Methylosmolene        6  2016-12-08 22:00:00  100.77640\n",
      "6876   Methylosmolene        6  2016-04-09 01:00:00   94.34631\n",
      "972    Methylosmolene        6  2016-04-02 04:00:00   88.53254\n",
      "53498  Methylosmolene        6  2016-12-02 04:00:00   84.95453\n",
      "53462  Methylosmolene        6  2016-12-02 03:00:00   80.54764\n",
      "53534  Methylosmolene        6  2016-12-02 05:00:00   79.04791\n",
      "26676  Methylosmolene        3  2016-08-01 23:00:00   75.96199\n",
      "61171  Methylosmolene        6  2016-12-11 02:00:00   68.88227\n",
      "56090  Methylosmolene        7  2016-12-05 04:00:00   63.31599\n",
      "26822  Methylosmolene        2  2016-08-02 04:00:00   58.46353\n",
      "\n",
      "\n",
      "           Chemical  Monitor            Date_Time   Reading\n",
      "26894  Chlorodinine        2  2016-08-02 06:00:00  15.72311\n",
      "71647  Chlorodinine        6  2016-12-23 05:00:00  15.04032\n",
      "67436  Chlorodinine        4  2016-12-18 08:00:00  14.58982\n",
      "56092  Chlorodinine        7  2016-12-05 04:00:00  13.40056\n",
      "22392  Chlorodinine        6  2016-04-27 00:00:00  12.84422\n",
      "7380   Chlorodinine        6  2016-04-09 15:00:00  11.79647\n",
      "38883  Chlorodinine        5  2016-08-16 05:00:00  11.74958\n",
      "2916   Chlorodinine        6  2016-04-04 10:00:00  11.48880\n",
      "35174  Chlorodinine        6  2016-08-11 22:00:00  11.29447\n",
      "31826  Chlorodinine        6  2016-08-08 01:00:00  11.24994\n",
      "\n",
      "\n",
      "      Chemical  Monitor            Date_Time   Reading\n",
      "36434  AGOC-3A        3  2016-08-13 09:00:00  85.31459\n",
      "4500   AGOC-3A        6  2016-04-06 07:00:00  84.82578\n",
      "35678  AGOC-3A        5  2016-08-12 12:00:00  84.63599\n",
      "36578  AGOC-3A        3  2016-08-13 13:00:00  81.69983\n",
      "56162  AGOC-3A        3  2016-12-05 06:00:00  80.41210\n",
      "66103  AGOC-3A        6  2016-12-16 19:00:00  74.27616\n",
      "34994  AGOC-3A        6  2016-08-11 17:00:00  71.68124\n",
      "59623  AGOC-3A        6  2016-12-09 07:00:00  70.82454\n",
      "4464   AGOC-3A        6  2016-04-06 06:00:00  69.16677\n",
      "67471  AGOC-3A        4  2016-12-18 09:00:00  65.71898\n",
      "\n",
      "\n",
      "          Chemical  Monitor            Date_Time   Reading\n",
      "26966  Appluimonia        6  2016-08-02 08:00:00  10.14769\n",
      "24444  Appluimonia        6  2016-04-29 09:00:00   8.95095\n",
      "56378  Appluimonia        9  2016-12-05 12:00:00   8.51651\n",
      "57680  Appluimonia        6  2016-12-07 01:00:00   7.92262\n",
      "36507  Appluimonia        5  2016-08-13 11:00:00   7.74279\n",
      "67473  Appluimonia        9  2016-12-18 09:00:00   7.63828\n",
      "27507  Appluimonia        3  2016-08-02 23:00:00   7.16925\n",
      "17172  Appluimonia        3  2016-04-20 23:00:00   6.92741\n",
      "27938  Appluimonia        3  2016-08-03 11:00:00   6.88687\n",
      "66609  Appluimonia        9  2016-12-17 09:00:00   6.37533\n",
      "\n",
      "\n"
     ]
    }
   ],
   "source": [
    "for elem in spikes:\n",
    "    print(spikes[elem])\n",
    "    print()\n",
    "    print()"
   ]
  },
  {
   "cell_type": "code",
   "execution_count": null,
   "id": "183fca38",
   "metadata": {},
   "outputs": [],
   "source": []
  }
 ],
 "metadata": {
  "kernelspec": {
   "display_name": "Python 3 (ipykernel)",
   "language": "python",
   "name": "python3"
  },
  "language_info": {
   "codemirror_mode": {
    "name": "ipython",
    "version": 3
   },
   "file_extension": ".py",
   "mimetype": "text/x-python",
   "name": "python",
   "nbconvert_exporter": "python",
   "pygments_lexer": "ipython3",
   "version": "3.10.9"
  }
 },
 "nbformat": 4,
 "nbformat_minor": 5
}
