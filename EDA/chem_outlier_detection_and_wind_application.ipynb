{
 "cells": [
  {
   "cell_type": "code",
   "execution_count": 1,
   "id": "b4bf0d71",
   "metadata": {},
   "outputs": [],
   "source": [
    "import numpy as np\n",
    "import pandas as pd\n",
    "from pandasql import sqldf\n",
    "import seaborn as sns\n",
    "import matplotlib.pyplot as plt\n",
    "from sklearn.ensemble import IsolationForest\n",
    "# from sklearn.preprocessing import StandardScaler\n",
    "sns.set_style(\"darkgrid\")"
   ]
  },
  {
   "cell_type": "code",
   "execution_count": 3,
   "id": "3c17f6a2",
   "metadata": {},
   "outputs": [],
   "source": [
    "sensor = pd.read_csv('https://raw.githubusercontent.com/j-tice/capstone_final/master/data/prepared_data/clean_data/clean_sensor_data.csv')\n",
    "weather = pd.read_csv('https://raw.githubusercontent.com/j-tice/capstone_final/ef9ac7bceb5cde6fd932cb5c0018ca90329a9d3c/data/prepared_data/clean_data/clean_meteorological_data.csv')\n",
    "locations = pd.read_csv('https://raw.githubusercontent.com/j-tice/capstone_final/ef9ac7bceb5cde6fd932cb5c0018ca90329a9d3c/data/prepared_data/clean_data/locations.csv')\n",
    "chem_counts = pd.read_csv('https://raw.githubusercontent.com/j-tice/capstone_final/a9b08f3c0f6fdd6e72bdd1465f3c6177b687d332/data/prepared_data/clean_data/chem_counts.csv')\n",
    "\n",
    "psql = lambda q: sqldf(q, globals())"
   ]
  },
  {
   "cell_type": "code",
   "execution_count": 4,
   "id": "35108711",
   "metadata": {},
   "outputs": [
    {
     "data": {
      "text/html": [
       "<div>\n",
       "<style scoped>\n",
       "    .dataframe tbody tr th:only-of-type {\n",
       "        vertical-align: middle;\n",
       "    }\n",
       "\n",
       "    .dataframe tbody tr th {\n",
       "        vertical-align: top;\n",
       "    }\n",
       "\n",
       "    .dataframe thead th {\n",
       "        text-align: right;\n",
       "    }\n",
       "</style>\n",
       "<table border=\"1\" class=\"dataframe\">\n",
       "  <thead>\n",
       "    <tr style=\"text-align: right;\">\n",
       "      <th></th>\n",
       "      <th>Chemical</th>\n",
       "      <th>Monitor</th>\n",
       "      <th>Date_Time</th>\n",
       "      <th>Reading</th>\n",
       "    </tr>\n",
       "  </thead>\n",
       "  <tbody>\n",
       "    <tr>\n",
       "      <th>0</th>\n",
       "      <td>Methylosmolene</td>\n",
       "      <td>3</td>\n",
       "      <td>2016-04-01 00:00:00</td>\n",
       "      <td>2.683820</td>\n",
       "    </tr>\n",
       "    <tr>\n",
       "      <th>1</th>\n",
       "      <td>Methylosmolene</td>\n",
       "      <td>7</td>\n",
       "      <td>2016-04-01 00:00:00</td>\n",
       "      <td>2.630640</td>\n",
       "    </tr>\n",
       "    <tr>\n",
       "      <th>2</th>\n",
       "      <td>Chlorodinine</td>\n",
       "      <td>3</td>\n",
       "      <td>2016-04-01 00:00:00</td>\n",
       "      <td>1.259170</td>\n",
       "    </tr>\n",
       "    <tr>\n",
       "      <th>3</th>\n",
       "      <td>Chlorodinine</td>\n",
       "      <td>7</td>\n",
       "      <td>2016-04-01 00:00:00</td>\n",
       "      <td>0.943983</td>\n",
       "    </tr>\n",
       "    <tr>\n",
       "      <th>4</th>\n",
       "      <td>AGOC-3A</td>\n",
       "      <td>3</td>\n",
       "      <td>2016-04-01 00:00:00</td>\n",
       "      <td>0.722303</td>\n",
       "    </tr>\n",
       "  </tbody>\n",
       "</table>\n",
       "</div>"
      ],
      "text/plain": [
       "         Chemical  Monitor            Date_Time   Reading\n",
       "0  Methylosmolene        3  2016-04-01 00:00:00  2.683820\n",
       "1  Methylosmolene        7  2016-04-01 00:00:00  2.630640\n",
       "2    Chlorodinine        3  2016-04-01 00:00:00  1.259170\n",
       "3    Chlorodinine        7  2016-04-01 00:00:00  0.943983\n",
       "4         AGOC-3A        3  2016-04-01 00:00:00  0.722303"
      ]
     },
     "execution_count": 4,
     "metadata": {},
     "output_type": "execute_result"
    }
   ],
   "source": [
    "sensor.head()"
   ]
  },
  {
   "cell_type": "code",
   "execution_count": null,
   "id": "07739efb",
   "metadata": {},
   "outputs": [],
   "source": [
    "# Import the iris dataset\n",
    "X = sensor['Chemical,Monitor,Reading'.split(',')]\n",
    "\n",
    "iforest = IsolationForest(n_estimators=100, max_samples='auto', \n",
    "                          contamination=0.1, max_features=1.0, \n",
    "                          bootstrap=False, n_jobs=-1, random_state=1)\n",
    "\n",
    "# Returns 1 of inliers, -1 for outliers\n",
    "pred = iforest.fit_predict(X)\n",
    "\n",
    "# Extract outliers\n",
    "outlier_index = np.where(pred==-1)\n",
    "outlier_values = X[outlier_index]\n",
    "\n",
    "# Feature scaling \n",
    "sc=StandardScaler()\n",
    "X_scaled = sc.fit_transform(X)\n",
    "outlier_values_scaled = sc.transform(outlier_values)\n",
    "\n",
    "# Apply PCA to reduce the dimensionality\n",
    "pca = PCA(n_components=2)\n",
    "X_pca = pca.fit_transform(X_scaled)\n",
    "outlier_values_pca = pca.transform(outlier_values_scaled)\n",
    "\n",
    "# Plot the data\n",
    "sns.scatterplot(x=X_pca[:,0], y=X_pca[:,1])\n",
    "sns.scatterplot(x=outlier_values_pca[:,0], \n",
    "                y=outlier_values_pca[:,1], color='r')\n",
    "plt.title(\"Isolation Forest Outlier Detection (Iris Data)\", \n",
    "           fontsize=15, pad=15)\n",
    "plt.xlabel(\"PC1\")\n",
    "plt.ylabel(\"PC2\")\n",
    "plt.savefig(\"Isolation Forest Detection.png\", dpi=80)"
   ]
  }
 ],
 "metadata": {
  "kernelspec": {
   "display_name": "Python 3 (ipykernel)",
   "language": "python",
   "name": "python3"
  },
  "language_info": {
   "codemirror_mode": {
    "name": "ipython",
    "version": 3
   },
   "file_extension": ".py",
   "mimetype": "text/x-python",
   "name": "python",
   "nbconvert_exporter": "python",
   "pygments_lexer": "ipython3",
   "version": "3.10.9"
  }
 },
 "nbformat": 4,
 "nbformat_minor": 5
}
