{
 "cells": [
  {
   "cell_type": "markdown",
   "id": "79679f53",
   "metadata": {},
   "source": [
    "# Which factories are responsible for which chemical releases? Carefully describe how you determined this using all the data you have available. For the factories you identified, describe any observed patterns of operation revealed in the data."
   ]
  },
  {
   "cell_type": "code",
   "execution_count": 50,
   "id": "cfd125c5",
   "metadata": {},
   "outputs": [],
   "source": [
    "# import libraries\n",
    "import numpy as np\n",
    "import pandas as pd\n",
    "from pandasql import sqldf\n",
    "import seaborn as sns\n",
    "import matplotlib.pyplot as plt\n",
    "%matplotlib inline\n",
    "import pprint\n",
    "from tabulate import tabulate\n",
    "import operator\n",
    "sns.set_style(\"darkgrid\")"
   ]
  },
  {
   "cell_type": "code",
   "execution_count": 2,
   "id": "fad4d660",
   "metadata": {},
   "outputs": [],
   "source": [
    "# import data\n",
    "sensor = pd.read_csv('https://raw.githubusercontent.com/j-tice/capstone_final/master/data/prepared_data/clean_data/clean_sensor_data.csv')\n",
    "weather = pd.read_csv('https://raw.githubusercontent.com/j-tice/capstone_final/ef9ac7bceb5cde6fd932cb5c0018ca90329a9d3c/data/prepared_data/clean_data/clean_meteorological_data.csv')\n",
    "locations = pd.read_csv('https://raw.githubusercontent.com/j-tice/capstone_final/ef9ac7bceb5cde6fd932cb5c0018ca90329a9d3c/data/prepared_data/clean_data/locations.csv')\n",
    "chem_counts = pd.read_csv('https://raw.githubusercontent.com/j-tice/capstone_final/a9b08f3c0f6fdd6e72bdd1465f3c6177b687d332/data/prepared_data/clean_data/chem_counts.csv')\n",
    "\n",
    "psql = lambda q: sqldf(q, globals())"
   ]
  },
  {
   "cell_type": "code",
   "execution_count": 3,
   "id": "7246d84e",
   "metadata": {},
   "outputs": [],
   "source": [
    "# eliminate the potentially faulty sensor 8\n",
    "sensor = sensor.loc[sensor.Monitor != 8]"
   ]
  },
  {
   "cell_type": "code",
   "execution_count": 4,
   "id": "da670993",
   "metadata": {},
   "outputs": [
    {
     "name": "stdout",
     "output_type": "stream",
     "text": [
      "{'AGOC-3A': 10.6913,\n",
      " 'Appluimonia': 2.699,\n",
      " 'Chlorodinine': 3.3325,\n",
      " 'Methylosmolene': 8.7986}\n"
     ]
    }
   ],
   "source": [
    "# determine cutoffs for each chemical type\n",
    "chems = list(sensor.Chemical.unique())\n",
    "chem_dfs = dict()\n",
    "cutoff_values = dict()\n",
    "\n",
    "for chemical in chems:\n",
    "    chem_dfs['{name}'.format(name=chemical)] = sensor.loc[sensor.Chemical == chemical]\n",
    "    \n",
    "for chemical in chems:\n",
    "    reference = chem_dfs[chemical]\n",
    "    tmp_cutoff = np.mean(reference.Reading) + (3 * np.std(reference.Reading))\n",
    "    cutoff_values['{name}'.format(name=chemical)] = round(tmp_cutoff, 4)\n",
    "\n",
    "pprint.pprint(cutoff_values)"
   ]
  },
  {
   "cell_type": "code",
   "execution_count": 5,
   "id": "7f48ba97",
   "metadata": {},
   "outputs": [],
   "source": [
    "# isolate observations where the chemical reading is above the cutoff\n",
    "\n",
    "spikes = dict()\n",
    "for chemical in chems:\n",
    "    tmp_df = chem_dfs[chemical]\n",
    "    tmp_cutoff = cutoff_values[chemical]\n",
    "    tmp_outliers = tmp_df.loc[tmp_df.Reading > tmp_cutoff]\n",
    "    spikes['{name}_outliers'.format(name=chemical)] = tmp_outliers"
   ]
  },
  {
   "cell_type": "code",
   "execution_count": 32,
   "id": "a2fc327c",
   "metadata": {
    "scrolled": false
   },
   "outputs": [
    {
     "name": "stdout",
     "output_type": "stream",
     "text": [
      "+-----------------------+----------------------------------+\n",
      "| Chemical, Sensor      |   Number of Significant Readings |\n",
      "|-----------------------+----------------------------------|\n",
      "| ('Methylosmolene', 6) |                               26 |\n",
      "| ('Methylosmolene', 3) |                               16 |\n",
      "| ('Methylosmolene', 4) |                               10 |\n",
      "| ('Methylosmolene', 5) |                               10 |\n",
      "| ('Methylosmolene', 7) |                               10 |\n",
      "| ('Methylosmolene', 9) |                                5 |\n",
      "| ('Methylosmolene', 2) |                                3 |\n",
      "| ('Methylosmolene', 1) |                                1 |\n",
      "+-----------------------+----------------------------------+\n",
      "\n",
      "+---------------------+----------------------------------+\n",
      "| Chemical, Sensor    |   Number of Significant Readings |\n",
      "|---------------------+----------------------------------|\n",
      "| ('Chlorodinine', 3) |                              111 |\n",
      "| ('Chlorodinine', 6) |                               87 |\n",
      "| ('Chlorodinine', 4) |                               39 |\n",
      "| ('Chlorodinine', 5) |                               25 |\n",
      "| ('Chlorodinine', 7) |                               14 |\n",
      "| ('Chlorodinine', 2) |                                3 |\n",
      "| ('Chlorodinine', 1) |                                2 |\n",
      "| ('Chlorodinine', 9) |                                1 |\n",
      "+---------------------+----------------------------------+\n",
      "\n",
      "+--------------------+----------------------------------+\n",
      "| Chemical, Sensor   |   Number of Significant Readings |\n",
      "|--------------------+----------------------------------|\n",
      "| ('AGOC-3A', 6)     |                               52 |\n",
      "| ('AGOC-3A', 4)     |                               29 |\n",
      "| ('AGOC-3A', 5)     |                               28 |\n",
      "| ('AGOC-3A', 3)     |                               22 |\n",
      "| ('AGOC-3A', 9)     |                               20 |\n",
      "| ('AGOC-3A', 7)     |                                6 |\n",
      "| ('AGOC-3A', 2)     |                                5 |\n",
      "| ('AGOC-3A', 1)     |                                2 |\n",
      "+--------------------+----------------------------------+\n",
      "\n",
      "+--------------------+----------------------------------+\n",
      "| Chemical, Sensor   |   Number of Significant Readings |\n",
      "|--------------------+----------------------------------|\n",
      "| ('Appluimonia', 3) |                              211 |\n",
      "| ('Appluimonia', 7) |                               27 |\n",
      "| ('Appluimonia', 9) |                               24 |\n",
      "| ('Appluimonia', 5) |                               13 |\n",
      "| ('Appluimonia', 6) |                                9 |\n",
      "| ('Appluimonia', 4) |                                3 |\n",
      "| ('Appluimonia', 1) |                                1 |\n",
      "+--------------------+----------------------------------+\n",
      "\n"
     ]
    }
   ],
   "source": [
    "# lets see the count of each significant chemical by sensor\n",
    "for key in spikes:\n",
    "    \n",
    "    sigs = spikes[key][['Monitor', 'Chemical', 'Reading']] \\\n",
    "        .groupby(by=['Chemical', 'Monitor']).count().sort_values(by='Reading', ascending=False)\n",
    "    print(tabulate(sigs, headers=['Chemical, Sensor', 'Number of Significant Readings'], tablefmt='psql'))\n",
    "    print()    "
   ]
  },
  {
   "cell_type": "code",
   "execution_count": null,
   "id": "77977b2f",
   "metadata": {},
   "outputs": [],
   "source": [
    "# let's find some of the instances that drive the above charts, specific perpetraitors, and track origin with wind data"
   ]
  },
  {
   "cell_type": "code",
   "execution_count": 33,
   "id": "a75a54d2",
   "metadata": {},
   "outputs": [],
   "source": [
    "top_10s = dict()\n",
    "for key in spikes:\n",
    "    top_10s['top_{name}'.format(name=key)] = spikes[key].sort_values(by='Reading', ascending=False).head(10)"
   ]
  },
  {
   "cell_type": "code",
   "execution_count": 49,
   "id": "183fca38",
   "metadata": {
    "scrolled": false
   },
   "outputs": [
    {
     "name": "stdout",
     "output_type": "stream",
     "text": [
      "+---TOP_METHYLOSMOLENE_OUTLIERS:\n",
      "\n",
      "             Chemical  Monitor            Date_Time    Reading\n",
      "59299  Methylosmolene        6  2016-12-08 22:00:00  100.77640\n",
      "6876   Methylosmolene        6  2016-04-09 01:00:00   94.34631\n",
      "972    Methylosmolene        6  2016-04-02 04:00:00   88.53254\n",
      "53498  Methylosmolene        6  2016-12-02 04:00:00   84.95453\n",
      "53462  Methylosmolene        6  2016-12-02 03:00:00   80.54764\n",
      "53534  Methylosmolene        6  2016-12-02 05:00:00   79.04791\n",
      "26676  Methylosmolene        3  2016-08-01 23:00:00   75.96199\n",
      "61171  Methylosmolene        6  2016-12-11 02:00:00   68.88227\n",
      "56090  Methylosmolene        7  2016-12-05 04:00:00   63.31599\n",
      "26822  Methylosmolene        2  2016-08-02 04:00:00   58.46353\n",
      "\n",
      "\n",
      "+---TOP_CHLORODININE_OUTLIERS:\n",
      "\n",
      "           Chemical  Monitor            Date_Time   Reading\n",
      "26894  Chlorodinine        2  2016-08-02 06:00:00  15.72311\n",
      "71647  Chlorodinine        6  2016-12-23 05:00:00  15.04032\n",
      "67436  Chlorodinine        4  2016-12-18 08:00:00  14.58982\n",
      "56092  Chlorodinine        7  2016-12-05 04:00:00  13.40056\n",
      "22392  Chlorodinine        6  2016-04-27 00:00:00  12.84422\n",
      "7380   Chlorodinine        6  2016-04-09 15:00:00  11.79647\n",
      "38883  Chlorodinine        5  2016-08-16 05:00:00  11.74958\n",
      "2916   Chlorodinine        6  2016-04-04 10:00:00  11.48880\n",
      "35174  Chlorodinine        6  2016-08-11 22:00:00  11.29447\n",
      "31826  Chlorodinine        6  2016-08-08 01:00:00  11.24994\n",
      "\n",
      "\n",
      "+---TOP_AGOC-3A_OUTLIERS:\n",
      "\n",
      "      Chemical  Monitor            Date_Time   Reading\n",
      "36434  AGOC-3A        3  2016-08-13 09:00:00  85.31459\n",
      "4500   AGOC-3A        6  2016-04-06 07:00:00  84.82578\n",
      "35678  AGOC-3A        5  2016-08-12 12:00:00  84.63599\n",
      "36578  AGOC-3A        3  2016-08-13 13:00:00  81.69983\n",
      "56162  AGOC-3A        3  2016-12-05 06:00:00  80.41210\n",
      "66103  AGOC-3A        6  2016-12-16 19:00:00  74.27616\n",
      "34994  AGOC-3A        6  2016-08-11 17:00:00  71.68124\n",
      "59623  AGOC-3A        6  2016-12-09 07:00:00  70.82454\n",
      "4464   AGOC-3A        6  2016-04-06 06:00:00  69.16677\n",
      "67471  AGOC-3A        4  2016-12-18 09:00:00  65.71898\n",
      "\n",
      "\n",
      "+---TOP_APPLUIMONIA_OUTLIERS:\n",
      "\n",
      "          Chemical  Monitor            Date_Time   Reading\n",
      "26966  Appluimonia        6  2016-08-02 08:00:00  10.14769\n",
      "24444  Appluimonia        6  2016-04-29 09:00:00   8.95095\n",
      "56378  Appluimonia        9  2016-12-05 12:00:00   8.51651\n",
      "57680  Appluimonia        6  2016-12-07 01:00:00   7.92262\n",
      "36507  Appluimonia        5  2016-08-13 11:00:00   7.74279\n",
      "67473  Appluimonia        9  2016-12-18 09:00:00   7.63828\n",
      "27507  Appluimonia        3  2016-08-02 23:00:00   7.16925\n",
      "17172  Appluimonia        3  2016-04-20 23:00:00   6.92741\n",
      "27938  Appluimonia        3  2016-08-03 11:00:00   6.88687\n",
      "66609  Appluimonia        9  2016-12-17 09:00:00   6.37533\n",
      "\n",
      "\n"
     ]
    }
   ],
   "source": [
    "for elem in top_10s:\n",
    "    print('+---' + elem.upper() + ':\\n')\n",
    "    pprint.pprint(top_10s[elem])\n",
    "    print('\\n')"
   ]
  },
  {
   "cell_type": "code",
   "execution_count": 61,
   "id": "517b600a",
   "metadata": {},
   "outputs": [
    {
     "data": {
      "text/html": [
       "<div>\n",
       "<style scoped>\n",
       "    .dataframe tbody tr th:only-of-type {\n",
       "        vertical-align: middle;\n",
       "    }\n",
       "\n",
       "    .dataframe tbody tr th {\n",
       "        vertical-align: top;\n",
       "    }\n",
       "\n",
       "    .dataframe thead th {\n",
       "        text-align: right;\n",
       "    }\n",
       "</style>\n",
       "<table border=\"1\" class=\"dataframe\">\n",
       "  <thead>\n",
       "    <tr style=\"text-align: right;\">\n",
       "      <th></th>\n",
       "      <th>Chemical</th>\n",
       "      <th>Monitor</th>\n",
       "      <th>Date_Time</th>\n",
       "      <th>Reading</th>\n",
       "    </tr>\n",
       "  </thead>\n",
       "  <tbody>\n",
       "    <tr>\n",
       "      <th>36434</th>\n",
       "      <td>AGOC-3A</td>\n",
       "      <td>3</td>\n",
       "      <td>2016-08-13 09:00:00</td>\n",
       "      <td>85.31459</td>\n",
       "    </tr>\n",
       "    <tr>\n",
       "      <th>4500</th>\n",
       "      <td>AGOC-3A</td>\n",
       "      <td>6</td>\n",
       "      <td>2016-04-06 07:00:00</td>\n",
       "      <td>84.82578</td>\n",
       "    </tr>\n",
       "    <tr>\n",
       "      <th>35678</th>\n",
       "      <td>AGOC-3A</td>\n",
       "      <td>5</td>\n",
       "      <td>2016-08-12 12:00:00</td>\n",
       "      <td>84.63599</td>\n",
       "    </tr>\n",
       "    <tr>\n",
       "      <th>36578</th>\n",
       "      <td>AGOC-3A</td>\n",
       "      <td>3</td>\n",
       "      <td>2016-08-13 13:00:00</td>\n",
       "      <td>81.69983</td>\n",
       "    </tr>\n",
       "    <tr>\n",
       "      <th>56162</th>\n",
       "      <td>AGOC-3A</td>\n",
       "      <td>3</td>\n",
       "      <td>2016-12-05 06:00:00</td>\n",
       "      <td>80.41210</td>\n",
       "    </tr>\n",
       "    <tr>\n",
       "      <th>66103</th>\n",
       "      <td>AGOC-3A</td>\n",
       "      <td>6</td>\n",
       "      <td>2016-12-16 19:00:00</td>\n",
       "      <td>74.27616</td>\n",
       "    </tr>\n",
       "    <tr>\n",
       "      <th>34994</th>\n",
       "      <td>AGOC-3A</td>\n",
       "      <td>6</td>\n",
       "      <td>2016-08-11 17:00:00</td>\n",
       "      <td>71.68124</td>\n",
       "    </tr>\n",
       "    <tr>\n",
       "      <th>59623</th>\n",
       "      <td>AGOC-3A</td>\n",
       "      <td>6</td>\n",
       "      <td>2016-12-09 07:00:00</td>\n",
       "      <td>70.82454</td>\n",
       "    </tr>\n",
       "    <tr>\n",
       "      <th>4464</th>\n",
       "      <td>AGOC-3A</td>\n",
       "      <td>6</td>\n",
       "      <td>2016-04-06 06:00:00</td>\n",
       "      <td>69.16677</td>\n",
       "    </tr>\n",
       "    <tr>\n",
       "      <th>67471</th>\n",
       "      <td>AGOC-3A</td>\n",
       "      <td>4</td>\n",
       "      <td>2016-12-18 09:00:00</td>\n",
       "      <td>65.71898</td>\n",
       "    </tr>\n",
       "  </tbody>\n",
       "</table>\n",
       "</div>"
      ],
      "text/plain": [
       "      Chemical  Monitor            Date_Time   Reading\n",
       "36434  AGOC-3A        3  2016-08-13 09:00:00  85.31459\n",
       "4500   AGOC-3A        6  2016-04-06 07:00:00  84.82578\n",
       "35678  AGOC-3A        5  2016-08-12 12:00:00  84.63599\n",
       "36578  AGOC-3A        3  2016-08-13 13:00:00  81.69983\n",
       "56162  AGOC-3A        3  2016-12-05 06:00:00  80.41210\n",
       "66103  AGOC-3A        6  2016-12-16 19:00:00  74.27616\n",
       "34994  AGOC-3A        6  2016-08-11 17:00:00  71.68124\n",
       "59623  AGOC-3A        6  2016-12-09 07:00:00  70.82454\n",
       "4464   AGOC-3A        6  2016-04-06 06:00:00  69.16677\n",
       "67471  AGOC-3A        4  2016-12-18 09:00:00  65.71898"
      ]
     },
     "execution_count": 61,
     "metadata": {},
     "output_type": "execute_result"
    }
   ],
   "source": [
    "# now lets join in the weather data to that specific timestamp\n",
    "# ...and do some weird unpacking using the dicts __getitem__ method so we can use some sql joins\n",
    "\n",
    "top_app = operator.itemgetter('top_Appluimonia_outliers')(top_10s)\n",
    "top_agoc = operator.itemgetter('top_AGOC-3A_outliers')(top_10s)\n",
    "top_chloro = operator.itemgetter('top_Chlorodinine_outliers')(top_10s)\n",
    "top_methyl = operator.itemgetter('top_Methylosmolene_outliers')(top_10s)\n"
   ]
  },
  {
   "cell_type": "code",
   "execution_count": 58,
   "id": "c08db5e3",
   "metadata": {},
   "outputs": [
    {
     "data": {
      "text/plain": [
       "dict_keys(['top_Methylosmolene_outliers', 'top_Chlorodinine_outliers', 'top_AGOC-3A_outliers', 'top_Appluimonia_outliers'])"
      ]
     },
     "execution_count": 58,
     "metadata": {},
     "output_type": "execute_result"
    }
   ],
   "source": [
    "top_10s.keys()"
   ]
  },
  {
   "cell_type": "code",
   "execution_count": null,
   "id": "0f424200",
   "metadata": {},
   "outputs": [],
   "source": []
  }
 ],
 "metadata": {
  "kernelspec": {
   "display_name": "Python 3 (ipykernel)",
   "language": "python",
   "name": "python3"
  },
  "language_info": {
   "codemirror_mode": {
    "name": "ipython",
    "version": 3
   },
   "file_extension": ".py",
   "mimetype": "text/x-python",
   "name": "python",
   "nbconvert_exporter": "python",
   "pygments_lexer": "ipython3",
   "version": "3.10.9"
  }
 },
 "nbformat": 4,
 "nbformat_minor": 5
}
